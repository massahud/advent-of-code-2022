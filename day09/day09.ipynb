{
 "cells": [
  {
   "cell_type": "markdown",
   "id": "43955064-055c-472c-bbf6-3c4cd4cb417a",
   "metadata": {},
   "source": [
    "# [Day 9](https://adventofcode.com/2022/day/9)"
   ]
  },
  {
   "cell_type": "markdown",
   "id": "bd02bcc2-d920-4bba-9464-1267eedce257",
   "metadata": {},
   "source": [
    "## Read input file"
   ]
  },
  {
   "cell_type": "code",
   "execution_count": 1,
   "id": "d01fe2e8-1f62-4bdc-ace5-3ad4739a2d87",
   "metadata": {},
   "outputs": [],
   "source": [
    "with open('input.txt', 'r') as file:\n",
    "    moves = [line.split(' ') for line in file.read().strip().split('\\n')]\n",
    "for move in moves:\n",
    "    move[1] = int(move[1])"
   ]
  },
  {
   "cell_type": "markdown",
   "id": "a15f0548-4e3b-43d6-86a4-c5aa8c588acb",
   "metadata": {},
   "source": [
    "## Part 1"
   ]
  },
  {
   "cell_type": "code",
   "execution_count": 2,
   "id": "6549f584-1ae4-497b-a72a-4344c005afd7",
   "metadata": {},
   "outputs": [
    {
     "data": {
      "text/plain": [
       "'Visited: 6522'"
      ]
     },
     "execution_count": 2,
     "metadata": {},
     "output_type": "execute_result"
    }
   ],
   "source": [
    "class rope:\n",
    "    def __init__(self):\n",
    "        self.head = (0, 0)\n",
    "        self.tail = (0, 0)\n",
    "    \n",
    "    def single_move(self, direction):\n",
    "        if direction == 'U':\n",
    "            self.head = (self.head[0], self.head[1]+1)\n",
    "        elif direction == 'D':\n",
    "            self.head = (self.head[0], self.head[1]-1)\n",
    "        elif direction == 'R':\n",
    "            self.head = (self.head[0]+1, self.head[1])\n",
    "        elif direction == 'L':\n",
    "            self.head = (self.head[0]-1, self.head[1])\n",
    "        self.__update_tail()\n",
    "        # display((direction, self.head, self.tail))\n",
    "    \n",
    "    def __update_tail(self):\n",
    "        dx = self.head[0] - self.tail[0]\n",
    "        dy = self.head[1] - self.tail[1]\n",
    "        if abs(dx) == 2:\n",
    "            self.tail = (self.tail[0] + dx/2 , self.head[1])\n",
    "        elif abs(dy) == 2:\n",
    "            self.tail = (self.head[0], self.tail[1] + dy/2)\n",
    "\n",
    "def move_rope(rope, move, positions):\n",
    "    for i in range(move[1]):\n",
    "        rope.single_move(move[0])\n",
    "        positions.add(rope.tail)\n",
    "    \n",
    "r = rope()\n",
    "positions = set()\n",
    "positions.add(r.tail)\n",
    "\n",
    "for move in moves:\n",
    "    move_rope(r, move, positions)\n",
    "\n",
    "f\"Visited: {len(positions)}\"\n",
    "    "
   ]
  },
  {
   "cell_type": "markdown",
   "id": "4ab4cf37-8f06-4fc4-8124-9f2eb9ce7c7b",
   "metadata": {},
   "source": [
    "## Part 2"
   ]
  },
  {
   "cell_type": "code",
   "execution_count": 3,
   "id": "ef09053c-9958-47f8-b06e-e5698ed8260c",
   "metadata": {},
   "outputs": [
    {
     "data": {
      "text/plain": [
       "'Visited: 2717'"
      ]
     },
     "execution_count": 3,
     "metadata": {},
     "output_type": "execute_result"
    }
   ],
   "source": [
    "class large_rope(rope):\n",
    "    def __init__(self, n):\n",
    "        self.knots = [(0, 0) for _ in range(n)]\n",
    "        self.head = self.knots[0]\n",
    "        self.tail = self.knots[-1]\n",
    "        \n",
    "    def single_move(self, direction):\n",
    "        self.head = self.knots[0]\n",
    "        self.tail = self.knots[1]        \n",
    "        super().single_move(direction)\n",
    "        self.knots[0] = self.head\n",
    "        self.knots[1] = self.tail\n",
    "        for i in range(1, len(self.knots)-1):\n",
    "            self.head = self.knots[i]\n",
    "            self.tail = self.knots[i+1]\n",
    "            self.__update_tail()\n",
    "            self.knots[i+1] = self.tail\n",
    "        self.head = self.knots[0]\n",
    "        self.tail = self.knots[-1]\n",
    "        self.test.add(self.tail)\n",
    "\n",
    "    def __update_tail(self):\n",
    "        dx = self.head[0] - self.tail[0]\n",
    "        dy = self.head[1] - self.tail[1]\n",
    "        if abs(dx) == 2:\n",
    "            self.tail = (self.tail[0] + int(dx/2), self.head[1] - int(dy/2))\n",
    "        elif abs(dy) == 2:\n",
    "            self.tail = (self.head[0] - int(dx/2), self.tail[1] + int(dy/2))\n",
    "\n",
    "r = large_rope(10)\n",
    "positions = set()\n",
    "positions.add(r.tail)\n",
    "\n",
    "for move in moves:\n",
    "    move_rope(r, move, positions)\n",
    "\n",
    "f\"Visited: {len(positions)}\""
   ]
  }
 ],
 "metadata": {
  "authors": [
   {
    "name": "Geraldo Massahud"
   }
  ],
  "kernelspec": {
   "display_name": "Python 3 (ipykernel)",
   "language": "python",
   "name": "python3"
  },
  "language_info": {
   "codemirror_mode": {
    "name": "ipython",
    "version": 3
   },
   "file_extension": ".py",
   "mimetype": "text/x-python",
   "name": "python",
   "nbconvert_exporter": "python",
   "pygments_lexer": "ipython3",
   "version": "3.11.0"
  },
  "nodate": true,
  "title": "Advent of Code 2022 - Day 9"
 },
 "nbformat": 4,
 "nbformat_minor": 5
}
