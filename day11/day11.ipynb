{
 "cells": [
  {
   "cell_type": "markdown",
   "id": "43955064-055c-472c-bbf6-3c4cd4cb417a",
   "metadata": {},
   "source": [
    "# [Day 11](https://adventofcode.com/2022/day/11)"
   ]
  },
  {
   "cell_type": "markdown",
   "id": "bd02bcc2-d920-4bba-9464-1267eedce257",
   "metadata": {},
   "source": [
    "## Read input file"
   ]
  },
  {
   "cell_type": "code",
   "execution_count": 1,
   "id": "d01fe2e8-1f62-4bdc-ace5-3ad4739a2d87",
   "metadata": {},
   "outputs": [],
   "source": [
    "with open('input.txt', 'r') as file:\n",
    "    lines = [line.strip() for line in file.read().strip().split('\\n')]"
   ]
  },
  {
   "cell_type": "markdown",
   "id": "a15f0548-4e3b-43d6-86a4-c5aa8c588acb",
   "metadata": {},
   "source": [
    "## Part 1"
   ]
  },
  {
   "cell_type": "code",
   "execution_count": 2,
   "id": "6549f584-1ae4-497b-a72a-4344c005afd7",
   "metadata": {},
   "outputs": [
    {
     "data": {
      "text/plain": [
       "[347, 350]"
      ]
     },
     "metadata": {},
     "output_type": "display_data"
    },
    {
     "data": {
      "text/plain": [
       "'Level: 121450'"
      ]
     },
     "metadata": {},
     "output_type": "display_data"
    }
   ],
   "source": [
    "import numpy\n",
    "import re\n",
    "\n",
    "class Monkey:\n",
    "    def __new__(cls, id):\n",
    "        monkey = super().__new__(cls)\n",
    "        monkey.id = id\n",
    "        monkey.items = list()\n",
    "        monkey.op_value = None\n",
    "        monkey.op = None\n",
    "        monkey.mod_test = None\n",
    "        monkey.monkey_true = None\n",
    "        monkey.monkey_false = None\n",
    "        monkey.inspections = 0\n",
    "        return monkey\n",
    "\n",
    "class Monkeys:\n",
    "    \n",
    "    def __init__(self):\n",
    "        self.monkeys = dict()\n",
    "        \n",
    "    def add_monkey(self, id):\n",
    "        self.monkeys[id] = Monkey(id)\n",
    "        \n",
    "    def monkey_turn(self, monkey):\n",
    "        if monkey.op == '*':\n",
    "            if monkey.op_value == 'old':\n",
    "                monkey.items = [item*item for item in monkey.items]\n",
    "            else:\n",
    "                monkey.items = [item*monkey.op_value for item in monkey.items]\n",
    "        elif monkey.op == '+':\n",
    "            if monkey.op_value == 'old':\n",
    "                monkey.items = [item+item for item in monkey.items]\n",
    "            else:\n",
    "                monkey.items = [item+monkey.op_value for item in monkey.items]\n",
    "        \n",
    "        monkey.items = [int(item/3.0) for item in monkey.items]\n",
    "\n",
    "        for item in monkey.items:\n",
    "            if item % monkey.mod_test:\n",
    "                self.monkeys[monkey.monkey_false].items.append(item)\n",
    "            else:\n",
    "                self.monkeys[monkey.monkey_true].items.append(item)\n",
    "        monkey.inspections += len(monkey.items)\n",
    "        monkey.items.clear()\n",
    "    \n",
    "    def turn(self):\n",
    "        for id in sorted(self.monkeys):\n",
    "            self.monkey_turn(self.monkeys[id])\n",
    "\n",
    "curr = None\n",
    "monkeys = Monkeys()\n",
    "for line in lines:\n",
    "    if m := re.match(r'Monkey ([0-9]+):', line):\n",
    "        curr = int(m.group(1))\n",
    "        monkeys.add_monkey(curr)\n",
    "    if m := re.match(r'Starting items: (.+)', line):\n",
    "        monkeys.monkeys[curr].items = [int(item.strip()) for item in m.group(1).split(',')]\n",
    "    if m := re.match(r'Operation: new = old ([+\\*]) (.+)', line):\n",
    "        monkeys.monkeys[curr].op = m.group(1)\n",
    "        op_value = m.group(2)\n",
    "        if op_value != 'old':\n",
    "            op_value = int(op_value)\n",
    "        monkeys.monkeys[curr].op_value = op_value\n",
    "    if m := re.match(r'Test: divisible by ([0-9]+)', line):\n",
    "        monkeys.monkeys[curr].mod_test = int(m.group(1))\n",
    "    if m := re.match(r'If true: throw to monkey ([0-9]+)', line):\n",
    "        monkeys.monkeys[curr].monkey_true = int(m.group(1))\n",
    "    if m := re.match(r'If false: throw to monkey ([0-9]+)', line):\n",
    "        monkeys.monkeys[curr].monkey_false = int(m.group(1))\n",
    "\n",
    "for i in range(20):\n",
    "    monkeys.turn()\n",
    "\n",
    "top_inspections = sorted([monkey.inspections for monkey in monkeys.monkeys.values()])[-2:]\n",
    "display(top_inspections)\n",
    "display(f'Level: {top_inspections[0] * top_inspections[1]}')"
   ]
  },
  {
   "cell_type": "markdown",
   "id": "4ab4cf37-8f06-4fc4-8124-9f2eb9ce7c7b",
   "metadata": {},
   "source": [
    "## Part 2"
   ]
  },
  {
   "cell_type": "code",
   "execution_count": 3,
   "id": "ef09053c-9958-47f8-b06e-e5698ed8260c",
   "metadata": {},
   "outputs": [
    {
     "data": {
      "text/plain": [
       "[166922, 169205]"
      ]
     },
     "metadata": {},
     "output_type": "display_data"
    },
    {
     "data": {
      "text/plain": [
       "'Level: 28244037010'"
      ]
     },
     "metadata": {},
     "output_type": "display_data"
    }
   ],
   "source": [
    "class BigMonkeys:\n",
    "    \n",
    "    def __init__(self):\n",
    "        self.monkeys = dict()\n",
    "        \n",
    "    def add_monkey(self, id):\n",
    "        self.monkeys[id] = Monkey(id)\n",
    "        self.monkeys[id].remainders = None\n",
    "        \n",
    "    def monkey_turn(self, monkey):\n",
    "        \n",
    "        for remainders in monkey.remainders:\n",
    "            for div, remainder in remainders.items():\n",
    "                if monkey.op == '*':\n",
    "                    if monkey.op_value == 'old':\n",
    "                        remainders[div] = (remainder*remainder) % div\n",
    "                    else:\n",
    "                        remainders[div] = (remainder*monkey.op_value) % div\n",
    "                elif monkey.op == '+':\n",
    "                    if monkey.op_value == 'old':\n",
    "                        remainders[div] = (remainder+remainder) % div\n",
    "                    else:\n",
    "                        remainders[div] = (remainder+monkey.op_value) % div\n",
    "\n",
    "        for i, remainders in enumerate(monkey.remainders):\n",
    "            target = self.monkeys[monkey.monkey_true]\n",
    "            if remainders[monkey.mod_test]:\n",
    "                target = self.monkeys[monkey.monkey_false]\n",
    "            target.items.append(monkey.items[i])\n",
    "            target.remainders.append(remainders)\n",
    "        monkey.inspections += len(monkey.items)\n",
    "        monkey.items.clear()\n",
    "        monkey.remainders.clear()\n",
    "    \n",
    "    def turn(self):\n",
    "        for monkey in self.monkeys.values():\n",
    "            if monkey.remainders is None:\n",
    "                monkey.remainders = list()\n",
    "                for item in monkey.items:\n",
    "                    remainder = dict()\n",
    "                    for m in self.monkeys.values():\n",
    "                        remainder[m.mod_test] = item % m.mod_test\n",
    "                    monkey.remainders.append(remainder) \n",
    "                    \n",
    "        for id in sorted(self.monkeys):\n",
    "            self.monkey_turn(self.monkeys[id])\n",
    "            \n",
    "curr = None\n",
    "monkeys = BigMonkeys()\n",
    "for line in lines:\n",
    "    if m := re.match(r'Monkey ([0-9]+):', line):\n",
    "        curr = int(m.group(1))\n",
    "        monkeys.add_monkey(curr)\n",
    "    if m := re.match(r'Starting items: (.+)', line):\n",
    "        monkeys.monkeys[curr].items = [int(item.strip()) for item in m.group(1).split(',')]\n",
    "    if m := re.match(r'Operation: new = old ([+\\*]) (.+)', line):\n",
    "        monkeys.monkeys[curr].op = m.group(1)\n",
    "        op_value = m.group(2)\n",
    "        if op_value != 'old':\n",
    "            op_value = int(op_value)\n",
    "        monkeys.monkeys[curr].op_value = op_value\n",
    "    if m := re.match(r'Test: divisible by ([0-9]+)', line):\n",
    "        monkeys.monkeys[curr].mod_test = int(m.group(1))\n",
    "    if m := re.match(r'If true: throw to monkey ([0-9]+)', line):\n",
    "        monkeys.monkeys[curr].monkey_true = int(m.group(1))\n",
    "    if m := re.match(r'If false: throw to monkey ([0-9]+)', line):\n",
    "        monkeys.monkeys[curr].monkey_false = int(m.group(1))\n",
    "\n",
    "\n",
    "for i in range(10000):\n",
    "    monkeys.turn()\n",
    "\n",
    "top_inspections = sorted([monkey.inspections for monkey in monkeys.monkeys.values()])[-2:]\n",
    "display(top_inspections)\n",
    "display(f'Level: {top_inspections[0] * top_inspections[1]}')"
   ]
  }
 ],
 "metadata": {
  "authors": [
   {
    "name": "Geraldo Massahud"
   }
  ],
  "kernelspec": {
   "display_name": "Python 3 (ipykernel)",
   "language": "python",
   "name": "python3"
  },
  "language_info": {
   "codemirror_mode": {
    "name": "ipython",
    "version": 3
   },
   "file_extension": ".py",
   "mimetype": "text/x-python",
   "name": "python",
   "nbconvert_exporter": "python",
   "pygments_lexer": "ipython3",
   "version": "3.11.0"
  },
  "nodate": true,
  "title": "Advent of Code 2022 - Day 11"
 },
 "nbformat": 4,
 "nbformat_minor": 5
}
