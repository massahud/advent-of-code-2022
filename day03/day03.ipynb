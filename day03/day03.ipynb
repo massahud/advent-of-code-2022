{
 "cells": [
  {
   "cell_type": "markdown",
   "id": "6f0cc393-90ae-4c69-a6fd-d47e8292117e",
   "metadata": {},
   "source": [
    "# [Day 3](https://adventofcode.com/2022/day/3)"
   ]
  },
  {
   "cell_type": "markdown",
   "id": "6f0549b7-b073-4fe2-b479-f0a6d68478ee",
   "metadata": {},
   "source": [
    "## Read input file"
   ]
  },
  {
   "cell_type": "code",
   "execution_count": 1,
   "id": "d01fe2e8-1f62-4bdc-ace5-3ad4739a2d87",
   "metadata": {},
   "outputs": [
    {
     "data": {
      "text/plain": [
       "'Input lines: 300'"
      ]
     },
     "execution_count": 1,
     "metadata": {},
     "output_type": "execute_result"
    }
   ],
   "source": [
    "with open('input.txt', 'r') as file:\n",
    "    lines = file.readlines()\n",
    "f\"Input lines: {len(lines)}\""
   ]
  },
  {
   "cell_type": "markdown",
   "id": "a97d2e6e-666b-4e35-b556-02abe23a47cf",
   "metadata": {},
   "source": [
    "## Part 1"
   ]
  },
  {
   "cell_type": "code",
   "execution_count": 2,
   "id": "6549f584-1ae4-497b-a72a-4344c005afd7",
   "metadata": {},
   "outputs": [
    {
     "data": {
      "text/plain": [
       "'Total: 8153'"
      ]
     },
     "execution_count": 2,
     "metadata": {},
     "output_type": "execute_result"
    }
   ],
   "source": [
    "def priority(c):\n",
    "    if ord(c) <= ord('Z'):\n",
    "        return ord(c) - ord('A') + 27\n",
    "    return ord(c) - ord('a') + 1\n",
    "\n",
    "total = 0\n",
    "counts = set()\n",
    "for line in lines:\n",
    "    line = line.strip()\n",
    "    for i, item in enumerate(line):\n",
    "        if i < len(line)/2:\n",
    "            counts.add(item)\n",
    "        elif item in counts:\n",
    "            total += priority(item)\n",
    "            counts.clear()\n",
    "            break\n",
    "\n",
    "f\"Total: {total}\""
   ]
  },
  {
   "cell_type": "markdown",
   "id": "53f264a4-a728-470e-831a-7fd91e48cd2a",
   "metadata": {},
   "source": [
    "## Part 2"
   ]
  },
  {
   "cell_type": "code",
   "execution_count": 3,
   "id": "ef09053c-9958-47f8-b06e-e5698ed8260c",
   "metadata": {},
   "outputs": [
    {
     "data": {
      "text/plain": [
       "'Total: 2342'"
      ]
     },
     "execution_count": 3,
     "metadata": {},
     "output_type": "execute_result"
    }
   ],
   "source": [
    "def priority(c):\n",
    "    if ord(c) <= ord('Z'):\n",
    "        return ord(c) - ord('A') + 27\n",
    "    return ord(c) - ord('a') + 1\n",
    "\n",
    "total = 0\n",
    "counts = dict()\n",
    "for m, line in enumerate(lines):\n",
    "    if m % 3 == 0:\n",
    "        counts.clear()\n",
    "    items = set(line.strip())\n",
    "    for item in items:\n",
    "        counts[item] = counts.get(item, 0) + 1\n",
    "        if counts[item] == 3:\n",
    "            total += priority(item)\n",
    "            break\n",
    "\n",
    "f\"Total: {total}\""
   ]
  }
 ],
 "metadata": {
  "authors": [
   {
    "name": "Geraldo Massahud"
   }
  ],
  "kernelspec": {
   "display_name": "Python 3 (ipykernel)",
   "language": "python",
   "name": "python3"
  },
  "language_info": {
   "codemirror_mode": {
    "name": "ipython",
    "version": 3
   },
   "file_extension": ".py",
   "mimetype": "text/x-python",
   "name": "python",
   "nbconvert_exporter": "python",
   "pygments_lexer": "ipython3",
   "version": "3.11.0"
  },
  "nodate": true,
  "title": "Advent of Code 2022 - Day 3"
 },
 "nbformat": 4,
 "nbformat_minor": 5
}
