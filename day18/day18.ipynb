{
 "cells": [
  {
   "cell_type": "markdown",
   "id": "43955064-055c-472c-bbf6-3c4cd4cb417a",
   "metadata": {
    "tags": []
   },
   "source": [
    "# [Day 18](https://adventofcode.com/2022/day/18)"
   ]
  },
  {
   "cell_type": "markdown",
   "id": "ee9dd8d9-77dc-4bd2-a02d-38a17b36d706",
   "metadata": {},
   "source": [
    "## Read input file"
   ]
  },
  {
   "cell_type": "code",
   "execution_count": 1,
   "id": "90cbeace-31be-41d7-abe1-b4f36a917b12",
   "metadata": {},
   "outputs": [],
   "source": [
    "with open('input.txt', 'r') as file:\n",
    "    cubes = set([tuple([*map(int,line.split(','))]) for line in file.read().strip().split('\\n')])"
   ]
  },
  {
   "cell_type": "markdown",
   "id": "a15f0548-4e3b-43d6-86a4-c5aa8c588acb",
   "metadata": {},
   "source": [
    "## Part 1"
   ]
  },
  {
   "cell_type": "code",
   "execution_count": 2,
   "id": "0b9e69c6-b033-492f-b54b-348a357177c2",
   "metadata": {},
   "outputs": [
    {
     "name": "stdout",
     "output_type": "stream",
     "text": [
      "4400\n"
     ]
    }
   ],
   "source": [
    "def neighbors(cube):\n",
    "    n = [\n",
    "        [-1,0,0],\n",
    "        [1,0,0],\n",
    "        [0,-1,0],\n",
    "        [0,1,0],\n",
    "        [0,0,-1],\n",
    "        [0,0,1]\n",
    "    ]\n",
    "    return [*map(lambda x : (cube[0] + x[0], cube[1] + x[1], cube[2] + x[2]), n)]\n",
    "area = 0\n",
    "for cube in cubes:\n",
    "    area += 6\n",
    "    for neighbor in neighbors(cube):\n",
    "        if neighbor in cubes:\n",
    "            area -= 1\n",
    "print(area)"
   ]
  },
  {
   "cell_type": "markdown",
   "id": "4ab4cf37-8f06-4fc4-8124-9f2eb9ce7c7b",
   "metadata": {},
   "source": [
    "## Part 2"
   ]
  },
  {
   "cell_type": "code",
   "execution_count": 3,
   "id": "ef09053c-9958-47f8-b06e-e5698ed8260c",
   "metadata": {},
   "outputs": [
    {
     "data": {
      "text/plain": [
       "2522"
      ]
     },
     "execution_count": 3,
     "metadata": {},
     "output_type": "execute_result"
    }
   ],
   "source": [
    "def neighbors(cube, volume = None):\n",
    "    n = [\n",
    "        [-1,0,0],\n",
    "        [1,0,0],\n",
    "        [0,-1,0],\n",
    "        [0,1,0],\n",
    "        [0,0,-1],\n",
    "        [0,0,1]\n",
    "    ]\n",
    "    neighbors = [*map(lambda x : (cube[0] + x[0], cube[1] + x[1], cube[2] + x[2]), n)]\n",
    "    if volume:\n",
    "        neighbors = [n for n in neighbors if n[0] >= volume['min_x'] and n[0] <= volume['max_x'] and n[1] >= volume['min_y'] and n[1] <= volume['max_y'] and n[2] >= volume['min_z'] and n[2] <= volume['max_z']]\n",
    "    return neighbors\n",
    "\n",
    "def flood_exterior(cubes):\n",
    "    min_x = min([c[0] for c in cubes]) - 1\n",
    "    max_x = max([c[0] for c in cubes]) + 1\n",
    "    min_y = min([c[1] for c in cubes]) - 1\n",
    "    max_y = max([c[1] for c in cubes]) + 1\n",
    "    min_z = min([c[2] for c in cubes]) - 1\n",
    "    max_z = max([c[2] for c in cubes]) + 1\n",
    "    \n",
    "    return flood((min_x, min_y, min_z), cubes, {'min_x': min_x, 'min_y': min_y, 'min_z': min_z, 'max_x': max_x, 'max_y': max_y, 'max_z': max_z})\n",
    "    \n",
    "def flood(pos, cubes, volume):\n",
    "    added = set()\n",
    "    queue = [pos]\n",
    "    added.add(pos)\n",
    "    sides = 0\n",
    "    while queue:\n",
    "        cube = queue.pop(0)\n",
    "        for neighbor in neighbors(cube, volume):\n",
    "            if neighbor in added:\n",
    "                continue\n",
    "            if neighbor in cubes:\n",
    "                sides += 1\n",
    "            else:\n",
    "                queue.append(neighbor)\n",
    "                added.add(neighbor)\n",
    "    return sides\n",
    "    \n",
    "\n",
    "\n",
    "flood_exterior(cubes)"
   ]
  }
 ],
 "metadata": {
  "authors": [
   {
    "name": "Geraldo Massahud"
   }
  ],
  "kernelspec": {
   "display_name": "Python 3 (ipykernel)",
   "language": "python",
   "name": "python3"
  },
  "language_info": {
   "codemirror_mode": {
    "name": "ipython",
    "version": 3
   },
   "file_extension": ".py",
   "mimetype": "text/x-python",
   "name": "python",
   "nbconvert_exporter": "python",
   "pygments_lexer": "ipython3",
   "version": "3.11.0"
  },
  "nodate": true,
  "title": "Advent of Code 2022 - Day 17"
 },
 "nbformat": 4,
 "nbformat_minor": 5
}
