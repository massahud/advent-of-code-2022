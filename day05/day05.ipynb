{
 "cells": [
  {
   "cell_type": "markdown",
   "id": "43955064-055c-472c-bbf6-3c4cd4cb417a",
   "metadata": {},
   "source": [
    "# [Day 5](https://adventofcode.com/2022/day/5)"
   ]
  },
  {
   "cell_type": "markdown",
   "id": "bd02bcc2-d920-4bba-9464-1267eedce257",
   "metadata": {},
   "source": [
    "## Read input file"
   ]
  },
  {
   "cell_type": "code",
   "execution_count": 1,
   "id": "d01fe2e8-1f62-4bdc-ace5-3ad4739a2d87",
   "metadata": {},
   "outputs": [],
   "source": [
    "import re\n",
    "import copy\n",
    "columns = dict()\n",
    "with open('input.txt', 'r') as file:\n",
    "    state, moves = [part.strip().split('\\n') for part in file.read().split('\\n\\n')]\n",
    "    for line in state[:-1]:\n",
    "        for match in re.finditer('\\[([^\\]]+)\\]', line):\n",
    "            pos = int(match.start() / 4) + 1\n",
    "            if pos not in columns:\n",
    "                columns[pos] = list()\n",
    "            columns[pos].insert(0, match.group(1))\n",
    "    moves = [[int(x) for x in re.findall('\\d+', move)] for move in moves]\n",
    "\n",
    "QTD=0\n",
    "FROM=1\n",
    "TO=2\n"
   ]
  },
  {
   "cell_type": "markdown",
   "id": "a15f0548-4e3b-43d6-86a4-c5aa8c588acb",
   "metadata": {},
   "source": [
    "## Part 1"
   ]
  },
  {
   "cell_type": "code",
   "execution_count": 2,
   "id": "6549f584-1ae4-497b-a72a-4344c005afd7",
   "metadata": {},
   "outputs": [
    {
     "data": {
      "text/plain": [
       "'Tops: JDTMRWCQJ'"
      ]
     },
     "execution_count": 2,
     "metadata": {},
     "output_type": "execute_result"
    }
   ],
   "source": [
    "part1 = copy.deepcopy(columns)\n",
    "for move in moves:\n",
    "    part1[move[TO]].extend(reversed(part1[move[FROM]][-move[QTD]:]))\n",
    "    part1[move[FROM]] = part1[move[FROM]][:-move[QTD]]\n",
    "\n",
    "f\"Tops: {''.join([part1[i][-1] for i in range(1, len(part1)+1)])}\""
   ]
  },
  {
   "cell_type": "markdown",
   "id": "4ab4cf37-8f06-4fc4-8124-9f2eb9ce7c7b",
   "metadata": {},
   "source": [
    "## Part 2"
   ]
  },
  {
   "cell_type": "code",
   "execution_count": 3,
   "id": "ef09053c-9958-47f8-b06e-e5698ed8260c",
   "metadata": {},
   "outputs": [
    {
     "data": {
      "text/plain": [
       "'Tops: VHJDDCWRD'"
      ]
     },
     "execution_count": 3,
     "metadata": {},
     "output_type": "execute_result"
    }
   ],
   "source": [
    "part2 = copy.deepcopy(columns)\n",
    "for move in moves:\n",
    "    part2[move[TO]].extend(part2[move[FROM]][-move[QTD]:])\n",
    "    part2[move[FROM]] = part2[move[FROM]][:-move[QTD]]\n",
    "\n",
    "f\"Tops: {''.join([part2[i][-1] for i in range(1, len(part2)+1)])}\""
   ]
  }
 ],
 "metadata": {
  "authors": [
   {
    "name": "Geraldo Massahud"
   }
  ],
  "kernelspec": {
   "display_name": "Python 3 (ipykernel)",
   "language": "python",
   "name": "python3"
  },
  "language_info": {
   "codemirror_mode": {
    "name": "ipython",
    "version": 3
   },
   "file_extension": ".py",
   "mimetype": "text/x-python",
   "name": "python",
   "nbconvert_exporter": "python",
   "pygments_lexer": "ipython3",
   "version": "3.11.0"
  },
  "nodate": true,
  "title": "Advent of Code 2022 - Day 5"
 },
 "nbformat": 4,
 "nbformat_minor": 5
}
