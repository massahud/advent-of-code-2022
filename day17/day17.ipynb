{
 "cells": [
  {
   "cell_type": "markdown",
   "id": "43955064-055c-472c-bbf6-3c4cd4cb417a",
   "metadata": {
    "tags": []
   },
   "source": [
    "# [Day 17](https://adventofcode.com/2022/day/17)"
   ]
  },
  {
   "cell_type": "markdown",
   "id": "ee9dd8d9-77dc-4bd2-a02d-38a17b36d706",
   "metadata": {},
   "source": [
    "## Read input file"
   ]
  },
  {
   "cell_type": "code",
   "execution_count": 1,
   "id": "90cbeace-31be-41d7-abe1-b4f36a917b12",
   "metadata": {},
   "outputs": [],
   "source": [
    "with open('input.txt', 'r') as file:\n",
    "    jets = [1 if x == '>' else -1 for x in [*file.read().strip()]]\n",
    "    \n",
    "blocks = (\n",
    "    ['####'],\n",
    "\n",
    "    ['.#.',\n",
    "     '###',\n",
    "     '.#.'],\n",
    "\n",
    "    ['..#',\n",
    "     '..#',\n",
    "     '###'],\n",
    "\n",
    "    ['#',\n",
    "     '#',\n",
    "     '#',\n",
    "     '#'],\n",
    "\n",
    "    ['##',\n",
    "     '##']\n",
    ")"
   ]
  },
  {
   "cell_type": "markdown",
   "id": "a15f0548-4e3b-43d6-86a4-c5aa8c588acb",
   "metadata": {},
   "source": [
    "## Part 1"
   ]
  },
  {
   "cell_type": "code",
   "execution_count": 2,
   "id": "0b9e69c6-b033-492f-b54b-348a357177c2",
   "metadata": {},
   "outputs": [
    {
     "name": "stdout",
     "output_type": "stream",
     "text": [
      "Top: 3177\n"
     ]
    }
   ],
   "source": [
    "def create_block(area, block):\n",
    "    if len(area) == 0:\n",
    "        area.append(\"+-------+\")\n",
    "    height = len(block)\n",
    "    for i in reversed(range(len(area))):\n",
    "        if '#' in area[i] or '-' in area[i]:\n",
    "            top = i\n",
    "            height = top + len(block) + 3\n",
    "            break\n",
    "    while height >= len(area):\n",
    "        area.append('|.......|')\n",
    "    return [2, height], top\n",
    "\n",
    "def collided(area, block, pos):\n",
    "    for line in reversed(range(len(block))):\n",
    "        height = pos[1]-line        \n",
    "        for i in range(len(block[line])):\n",
    "            if block[line][i] == '#' and area[height][1+pos[0]+i] != '.':\n",
    "                # display(block, height, block[line], area[height], pos, i)\n",
    "                return True\n",
    "    return False\n",
    "\n",
    "def settle_block(area, block, pos):\n",
    "    for line in reversed(range(len(block))):\n",
    "        height = pos[1]-line\n",
    "        for i in range(len(block[line])):\n",
    "            new_line = [*area[height]]\n",
    "            if area[height][1+i+pos[0]] != '#':\n",
    "                new_line[1+i+pos[0]] = block[line][i]\n",
    "            area[height] = ''.join(new_line)\n",
    "def simulate(n):    \n",
    "    area = list()\n",
    "    jet = 0\n",
    "    for i in range(n):\n",
    "        block = blocks[i%len(blocks)]\n",
    "        pos, top = create_block(area, block)    \n",
    "\n",
    "        # stream and down until settled\n",
    "        while True:\n",
    "            pos[0] = pos[0]+jets[jet%len(jets)]\n",
    "\n",
    "            # keep inside the walls\n",
    "            if collided(area, block, pos):\n",
    "                pos[0] = pos[0]-jets[jet%len(jets)]\n",
    "            jet += 1\n",
    "            pos[1] -= 1\n",
    "            if collided(area, block, pos):\n",
    "                pos[1] += 1\n",
    "                settle_block(area, block, pos)\n",
    "                break\n",
    "    return area\n",
    "\n",
    "def top(area):\n",
    "    for i in reversed(range(len(area))):\n",
    "        if '#' in area[i] or '-' in area[i]:\n",
    "            return i\n",
    "\n",
    "area = simulate(2022)\n",
    "print(f\"Top: {top(area)}\")"
   ]
  },
  {
   "cell_type": "markdown",
   "id": "4ab4cf37-8f06-4fc4-8124-9f2eb9ce7c7b",
   "metadata": {},
   "source": [
    "## Part 2"
   ]
  },
  {
   "cell_type": "code",
   "execution_count": 3,
   "id": "ef09053c-9958-47f8-b06e-e5698ed8260c",
   "metadata": {},
   "outputs": [
    {
     "name": "stdout",
     "output_type": "stream",
     "text": [
      "Repetitions: 574712643\n",
      "Repetition height: 2724\n",
      "Rest: 1180\n",
      "Rest top: 1850\n",
      "Top: 1565517241382\n"
     ]
    }
   ],
   "source": [
    "def find_repetition(n):    \n",
    "    area = list()\n",
    "    jet = 0\n",
    "    memory = dict()\n",
    "    last_pos = []\n",
    "    for i in range(n):\n",
    "        \n",
    "        block = blocks[i%len(blocks)]\n",
    "                \n",
    "        pos, top = create_block(area, block)\n",
    "        start_jet = jet%len(jets)\n",
    "            \n",
    "        # stream and down until settled\n",
    "        while True:\n",
    "            pos[0] = pos[0]+jets[jet%len(jets)]\n",
    "\n",
    "            # keep inside the walls\n",
    "            if collided(area, block, pos):\n",
    "                pos[0] = pos[0]-jets[jet%len(jets)]\n",
    "            jet += 1\n",
    "            pos[1] -= 1\n",
    "            if collided(area, block, pos):\n",
    "                pos[1] += 1\n",
    "                settle_block(area, block, pos)\n",
    "                if pos[1] >= len(area)-len(block)-3:\n",
    "                    last_pos.append((pos[0],len(area)-pos[1]))\n",
    "                    if len(last_pos) > len(blocks)*4:\n",
    "                        last_pos = last_pos[1:]\n",
    "                    if len(last_pos) == len(blocks)*4:\n",
    "                        blk = i%len(blocks)\n",
    "                        j = jet%len(jets)\n",
    "                        key = (j, blk, tuple(last_pos))\n",
    "                        if key in memory:\n",
    "                            return (memory[key], i)\n",
    "                        else:\n",
    "                            memory[key] = i\n",
    "                \n",
    "                break\n",
    "    for i in reversed(range(len(area))):\n",
    "        if '#' in area[i] or '-' in area[i]:\n",
    "            return i + bottom\n",
    "rep = find_repetition(10000)\n",
    "\n",
    "repetitions = int((1000000000000-rep[0])/(rep[1]-rep[0]))\n",
    "print(f\"Repetitions: {repetitions}\")\n",
    "\n",
    "# find height of repetition\n",
    "h1 = top(simulate(rep[0]))\n",
    "h2 = top(simulate(rep[0]+(rep[1]-rep[0])))\n",
    "h = h2-h1\n",
    "print(f\"Repetition height: {h}\")\n",
    "\n",
    "rest = rep[0]+(1000000000000-rep[0])%(rep[1]-rep[0])\n",
    "print(f\"Rest: {rest}\")\n",
    "\n",
    "rest_top = top(simulate(rest))\n",
    "print(f\"Rest top: {rest_top}\")\n",
    "\n",
    "print(f\"Top: {repetitions*h+rest_top}\")\n"
   ]
  }
 ],
 "metadata": {
  "authors": [
   {
    "name": "Geraldo Massahud"
   }
  ],
  "kernelspec": {
   "display_name": "Python 3 (ipykernel)",
   "language": "python",
   "name": "python3"
  },
  "language_info": {
   "codemirror_mode": {
    "name": "ipython",
    "version": 3
   },
   "file_extension": ".py",
   "mimetype": "text/x-python",
   "name": "python",
   "nbconvert_exporter": "python",
   "pygments_lexer": "ipython3",
   "version": "3.11.0"
  },
  "nodate": true,
  "title": "Advent of Code 2022 - Day 17"
 },
 "nbformat": 4,
 "nbformat_minor": 5
}
