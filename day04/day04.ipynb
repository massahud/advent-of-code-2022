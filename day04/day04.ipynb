{
 "cells": [
  {
   "cell_type": "markdown",
   "id": "43955064-055c-472c-bbf6-3c4cd4cb417a",
   "metadata": {},
   "source": [
    "# [Day 3](https://adventofcode.com/2022/day/3)"
   ]
  },
  {
   "cell_type": "markdown",
   "id": "bd02bcc2-d920-4bba-9464-1267eedce257",
   "metadata": {},
   "source": [
    "## Read input file"
   ]
  },
  {
   "cell_type": "code",
   "execution_count": 1,
   "id": "d01fe2e8-1f62-4bdc-ace5-3ad4739a2d87",
   "metadata": {},
   "outputs": [
    {
     "data": {
      "text/plain": [
       "'Input lines: 1000'"
      ]
     },
     "execution_count": 1,
     "metadata": {},
     "output_type": "execute_result"
    }
   ],
   "source": [
    "with open('input.txt', 'r') as file:\n",
    "    lines = file.readlines()\n",
    "f\"Input lines: {len(lines)}\""
   ]
  },
  {
   "cell_type": "markdown",
   "id": "a15f0548-4e3b-43d6-86a4-c5aa8c588acb",
   "metadata": {},
   "source": [
    "## Part 1\n"
   ]
  },
  {
   "cell_type": "code",
   "execution_count": 2,
   "id": "6549f584-1ae4-497b-a72a-4344c005afd7",
   "metadata": {},
   "outputs": [
    {
     "data": {
      "text/plain": [
       "'Total: 582'"
      ]
     },
     "execution_count": 2,
     "metadata": {},
     "output_type": "execute_result"
    }
   ],
   "source": [
    "total = 0\n",
    "\n",
    "for line in lines:\n",
    "    line = line.strip()\n",
    "    ranges = [[int(x) for x in pair.split('-')] for pair in line.split(',')]\n",
    "    if ranges[0][0] <= ranges[1][0] and ranges[0][1] >= ranges[1][1] or ranges[0][0] >= ranges[1][0] and ranges[0][1] <= ranges[1][1]:\n",
    "        total = total + 1\n",
    "\n",
    "f\"Total: {total}\""
   ]
  },
  {
   "cell_type": "markdown",
   "id": "4ab4cf37-8f06-4fc4-8124-9f2eb9ce7c7b",
   "metadata": {},
   "source": [
    "## Part 2"
   ]
  },
  {
   "cell_type": "code",
   "execution_count": 3,
   "id": "ef09053c-9958-47f8-b06e-e5698ed8260c",
   "metadata": {},
   "outputs": [
    {
     "data": {
      "text/plain": [
       "'Total: 893'"
      ]
     },
     "execution_count": 3,
     "metadata": {},
     "output_type": "execute_result"
    }
   ],
   "source": [
    "total = 0\n",
    "\n",
    "for line in lines:\n",
    "    line = line.strip()\n",
    "    ranges = [[int(x) for x in pair.split('-')] for pair in line.split(',')]\n",
    "    if ranges[0][1] >= ranges[1][0] and ranges[0][0] <= ranges[1][0]:\n",
    "        total = total + 1\n",
    "    elif ranges[0][1] >= ranges[1][1] and ranges[0][0] <= ranges[1][1]:\n",
    "        total = total + 1\n",
    "    elif ranges[1][1] >= ranges[0][0] and ranges[1][0] <= ranges[0][1]:\n",
    "        total = total + 1\n",
    "    elif ranges[1][1] >= ranges[0][1] and ranges[1][0] <= ranges[0][1]:\n",
    "        total = total + 1\n",
    "\n",
    "f\"Total: {total}\""
   ]
  }
 ],
 "metadata": {
  "authors": [
   {
    "name": "Geraldo Massahud"
   }
  ],
  "kernelspec": {
   "display_name": "Python 3 (ipykernel)",
   "language": "python",
   "name": "python3"
  },
  "language_info": {
   "codemirror_mode": {
    "name": "ipython",
    "version": 3
   },
   "file_extension": ".py",
   "mimetype": "text/x-python",
   "name": "python",
   "nbconvert_exporter": "python",
   "pygments_lexer": "ipython3",
   "version": "3.11.0"
  },
  "nodate": true,
  "title": "Advent of Code 2022 - Day 4"
 },
 "nbformat": 4,
 "nbformat_minor": 5
}
