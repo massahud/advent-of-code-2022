{
 "cells": [
  {
   "cell_type": "markdown",
   "id": "43955064-055c-472c-bbf6-3c4cd4cb417a",
   "metadata": {},
   "source": [
    "# [Day 12](https://adventofcode.com/2022/day/12)"
   ]
  },
  {
   "cell_type": "markdown",
   "id": "bd02bcc2-d920-4bba-9464-1267eedce257",
   "metadata": {},
   "source": [
    "## Read input file"
   ]
  },
  {
   "cell_type": "code",
   "execution_count": 1,
   "id": "d01fe2e8-1f62-4bdc-ace5-3ad4739a2d87",
   "metadata": {},
   "outputs": [],
   "source": [
    "with open('input.txt', 'r') as file:\n",
    "    heightmap = [[*line.strip()] for line in file.read().strip().split('\\n')]"
   ]
  },
  {
   "cell_type": "markdown",
   "id": "a15f0548-4e3b-43d6-86a4-c5aa8c588acb",
   "metadata": {},
   "source": [
    "## Part 1"
   ]
  },
  {
   "cell_type": "code",
   "execution_count": 2,
   "id": "6549f584-1ae4-497b-a72a-4344c005afd7",
   "metadata": {},
   "outputs": [
    {
     "data": {
      "text/plain": [
       "'Steps: 380'"
      ]
     },
     "metadata": {},
     "output_type": "display_data"
    }
   ],
   "source": [
    "from queue import PriorityQueue\n",
    "\n",
    "heights = {'S': 'a', 'E': 'z'}\n",
    "\n",
    "def find(heightmap, symbol):\n",
    "    for i, row in enumerate(heightmap):\n",
    "        for j, cell in enumerate(row):\n",
    "            if cell == symbol:\n",
    "                return (i, j)\n",
    "\n",
    "            \n",
    "def list_reachables(coords, visited, max_coords, can_reach):\n",
    "    nexts = [\n",
    "        (coords[0]-1, coords[1]),\n",
    "        (coords[0]+1, coords[1]),\n",
    "        (coords[0], coords[1]-1),\n",
    "        (coords[0], coords[1]+1)\n",
    "    ]\n",
    "\n",
    "\n",
    "    nexts = [c for c in nexts if c[0] >= 0 and c[1] >= 0]\n",
    "    nexts = [c for c in nexts if c[0] < max_coords[0] and c[1] < max_coords[1]]\n",
    "    nexts = [c for c in nexts if c not in visited]\n",
    "    nexts = [c for c in nexts if can_reach(coords, c)]\n",
    "    return nexts\n",
    "\n",
    "def reachable(from_coords, to_coords):\n",
    "    val = lambda x : ord(heights.get(x, x))\n",
    "    return val(heightmap[from_coords[0]][from_coords[1]]) >= (val(heightmap[to_coords[0]][to_coords[1]]) - 1)\n",
    "\n",
    "queue = PriorityQueue()\n",
    "visited = set()\n",
    "cost = dict()\n",
    "\n",
    "start = find(heightmap, 'S')\n",
    "end = find(heightmap, 'E')\n",
    "\n",
    "cost[start] = 0\n",
    "\n",
    "queue.put((0, start))\n",
    "while not queue.empty():\n",
    "    pos = queue.get()\n",
    "\n",
    "    if pos[1] in visited:\n",
    "        continue\n",
    "    visited.add(pos[1])\n",
    "    cost[pos[1]] = pos[0]\n",
    "    if pos[1] == end:\n",
    "        break\n",
    "\n",
    "    for p in list_reachables(pos[1], visited, (len(heightmap), len(heightmap[0])), reachable):\n",
    "        queue.put((cost[pos[1]]+1, p))\n",
    "display(f\"Steps: {cost[end]}\")"
   ]
  },
  {
   "cell_type": "markdown",
   "id": "4ab4cf37-8f06-4fc4-8124-9f2eb9ce7c7b",
   "metadata": {},
   "source": [
    "## Part 2"
   ]
  },
  {
   "cell_type": "code",
   "execution_count": 3,
   "id": "ef09053c-9958-47f8-b06e-e5698ed8260c",
   "metadata": {},
   "outputs": [
    {
     "data": {
      "text/plain": [
       "375"
      ]
     },
     "execution_count": 3,
     "metadata": {},
     "output_type": "execute_result"
    }
   ],
   "source": [
    "def find_all(heightmap, symbol):\n",
    "    coords = list()\n",
    "    for i, row in enumerate(heightmap):\n",
    "        for j, cell in enumerate(row):\n",
    "            if cell == symbol:\n",
    "                coords.append((i, j))\n",
    "    return coords\n",
    "\n",
    "queue = PriorityQueue()\n",
    "visited = set()\n",
    "cost = dict()\n",
    "\n",
    "start = find(heightmap, 'S')\n",
    "end = find(heightmap, 'E')\n",
    "\n",
    "cost[end] = 0\n",
    "\n",
    "queue.put((0, end))\n",
    "while not queue.empty():\n",
    "    pos = queue.get()\n",
    "\n",
    "    if pos[1] in visited:\n",
    "        continue\n",
    "    visited.add(pos[1])\n",
    "    cost[pos[1]] = pos[0]\n",
    "\n",
    "    for p in list_reachables(pos[1], visited, (len(heightmap), len(heightmap[0])), lambda a,b : reachable(b,a)):\n",
    "        queue.put((cost[pos[1]]+1, p))\n",
    "\n",
    "\n",
    "min_steps = cost[start]\n",
    "for p in find_all(heightmap, 'a'):\n",
    "    if p in visited:\n",
    "        min_steps = min(min_steps, cost[p])\n",
    "min_steps"
   ]
  }
 ],
 "metadata": {
  "authors": [
   {
    "name": "Geraldo Massahud"
   }
  ],
  "kernelspec": {
   "display_name": "Python 3 (ipykernel)",
   "language": "python",
   "name": "python3"
  },
  "language_info": {
   "codemirror_mode": {
    "name": "ipython",
    "version": 3
   },
   "file_extension": ".py",
   "mimetype": "text/x-python",
   "name": "python",
   "nbconvert_exporter": "python",
   "pygments_lexer": "ipython3",
   "version": "3.11.0"
  },
  "nodate": true,
  "title": "Advent of Code 2022 - Day 12"
 },
 "nbformat": 4,
 "nbformat_minor": 5
}
