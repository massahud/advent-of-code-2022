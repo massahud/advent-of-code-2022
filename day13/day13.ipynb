{
 "cells": [
  {
   "cell_type": "markdown",
   "id": "43955064-055c-472c-bbf6-3c4cd4cb417a",
   "metadata": {
    "tags": []
   },
   "source": [
    "# [Day 13](https://adventofcode.com/2022/day/13)"
   ]
  },
  {
   "cell_type": "markdown",
   "id": "bd02bcc2-d920-4bba-9464-1267eedce257",
   "metadata": {},
   "source": [
    "## Read input file"
   ]
  },
  {
   "cell_type": "code",
   "execution_count": 1,
   "id": "d01fe2e8-1f62-4bdc-ace5-3ad4739a2d87",
   "metadata": {},
   "outputs": [],
   "source": [
    "import json\n",
    "with open('input.txt', 'r') as file:\n",
    "    packets = [json.loads(line) for line in file.read().strip().split('\\n') if line.strip() != '']\n",
    "left_packets = packets[0::2]\n",
    "right_packets = packets[1::2]\n",
    "\n",
    "def packet_pair(left, right):\n",
    "    for i in range(len(left)):\n",
    "        yield (left[i], right[i])"
   ]
  },
  {
   "cell_type": "markdown",
   "id": "a15f0548-4e3b-43d6-86a4-c5aa8c588acb",
   "metadata": {},
   "source": [
    "## Part 1"
   ]
  },
  {
   "cell_type": "code",
   "execution_count": 2,
   "id": "6549f584-1ae4-497b-a72a-4344c005afd7",
   "metadata": {},
   "outputs": [
    {
     "data": {
      "text/plain": [
       "'Sum: 5366'"
      ]
     },
     "execution_count": 2,
     "metadata": {},
     "output_type": "execute_result"
    }
   ],
   "source": [
    "def compare(l, r):\n",
    "    if type(l) == int and type(r) == int:\n",
    "        return l - r\n",
    "    if type(l) == int and type(r) == list:\n",
    "        return compare([l], r)\n",
    "    elif type(l) == list and type(r) == int:\n",
    "        return compare(l, [r])\n",
    "    elif type(l) == list and type(r) == list:\n",
    "        for i in range(min(len(l), len(r))):\n",
    "            if c := compare(l[i], r[i]):\n",
    "                return c\n",
    "        return len(l) - len(r)\n",
    "    \n",
    "total = 0\n",
    "for i, pair in enumerate(packet_pair(left_packets, right_packets)):\n",
    "    if compare(pair[0], pair[1]) < 0:\n",
    "        total += i+1\n",
    "        \n",
    "f\"Sum: {total}\""
   ]
  },
  {
   "cell_type": "markdown",
   "id": "4ab4cf37-8f06-4fc4-8124-9f2eb9ce7c7b",
   "metadata": {},
   "source": [
    "## Part 2"
   ]
  },
  {
   "cell_type": "code",
   "execution_count": 3,
   "id": "ef09053c-9958-47f8-b06e-e5698ed8260c",
   "metadata": {},
   "outputs": [
    {
     "data": {
      "text/plain": [
       "'Decoder key: 23391'"
      ]
     },
     "execution_count": 3,
     "metadata": {},
     "output_type": "execute_result"
    }
   ],
   "source": [
    "from functools import cmp_to_key\n",
    "\n",
    "sorted_packets = sorted([[[2]],[[6]], *packets], key=cmp_to_key(compare))\n",
    "\n",
    "div1 = sorted_packets.index([[2]])+1\n",
    "div2 = sorted_packets.index([[6]])+1\n",
    "\n",
    "f\"Decoder key: {div1*div2}\"\n"
   ]
  }
 ],
 "metadata": {
  "authors": [
   {
    "name": "Geraldo Massahud"
   }
  ],
  "kernelspec": {
   "display_name": "Python 3 (ipykernel)",
   "language": "python",
   "name": "python3"
  },
  "language_info": {
   "codemirror_mode": {
    "name": "ipython",
    "version": 3
   },
   "file_extension": ".py",
   "mimetype": "text/x-python",
   "name": "python",
   "nbconvert_exporter": "python",
   "pygments_lexer": "ipython3",
   "version": "3.11.0"
  },
  "nodate": true,
  "title": "Advent of Code 2022 - Day 13"
 },
 "nbformat": 4,
 "nbformat_minor": 5
}
