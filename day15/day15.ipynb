{
 "cells": [
  {
   "cell_type": "markdown",
   "id": "43955064-055c-472c-bbf6-3c4cd4cb417a",
   "metadata": {
    "tags": []
   },
   "source": [
    "# [Day 15](https://adventofcode.com/2022/day/15)"
   ]
  },
  {
   "cell_type": "markdown",
   "id": "bd02bcc2-d920-4bba-9464-1267eedce257",
   "metadata": {},
   "source": [
    "## Pretty drawing"
   ]
  },
  {
   "cell_type": "markdown",
   "id": "ee9dd8d9-77dc-4bd2-a02d-38a17b36d706",
   "metadata": {},
   "source": [
    "## Read input file"
   ]
  },
  {
   "cell_type": "code",
   "execution_count": 1,
   "id": "18696e48-4509-4a15-af33-b288f2353ff0",
   "metadata": {},
   "outputs": [],
   "source": [
    "import re\n",
    "with open('input.txt', 'r') as file:\n",
    "    sensor_output = [[(int(x[0]), int(x[1])) for x in re.findall('x=([-\\d]+), y=([-\\d]+)', line)] for line in file.read().strip().split('\\n')]"
   ]
  },
  {
   "cell_type": "code",
   "execution_count": 2,
   "id": "9bd1b951-9213-458c-b109-71865aa34597",
   "metadata": {},
   "outputs": [],
   "source": [
    "def add_coords(c1, c2):\n",
    "    return tuple(map(lambda a,b: a+b, c1, c2))\n",
    "def sub_coords(c1, c2):\n",
    "    return tuple(map(lambda a,b: a-b, c1, c2))\n",
    "def distance(c1, c2):\n",
    "    return sum(map(lambda a,b: abs(a-b), c1, c2))"
   ]
  },
  {
   "cell_type": "markdown",
   "id": "a15f0548-4e3b-43d6-86a4-c5aa8c588acb",
   "metadata": {},
   "source": [
    "## Part 1"
   ]
  },
  {
   "cell_type": "code",
   "execution_count": 3,
   "id": "6549f584-1ae4-497b-a72a-4344c005afd7",
   "metadata": {},
   "outputs": [
    {
     "name": "stdout",
     "output_type": "stream",
     "text": [
      "Final coverage: 5240818\n"
     ]
    }
   ],
   "source": [
    "row = 2000000\n",
    "# row = 10\n",
    "row_coverage = list()\n",
    "for sensor, beacon in sensor_output:\n",
    "    reach = distance(sensor, beacon)\n",
    "    row_distance = distance((sensor[0], row), sensor)\n",
    "    if row_distance <= reach:\n",
    "        row_coverage.append((sensor[0]-(reach-row_distance),sensor[0]+(reach-row_distance)))\n",
    "row_coverage = sorted(row_coverage, key=lambda x: x[0])\n",
    "final_coverage = [row_coverage[0]]\n",
    "for coverage in row_coverage:\n",
    "    if final_coverage[-1][1] >= coverage[0]:\n",
    "        final_coverage[-1] = (final_coverage[-1][0], max(final_coverage[-1][1], coverage[1]))\n",
    "    else:\n",
    "        final_coverage.append(coverage)\n",
    "\n",
    "print(f\"Final coverage: {sum([x[1]-x[0] for x in final_coverage])}\")"
   ]
  },
  {
   "cell_type": "markdown",
   "id": "4ab4cf37-8f06-4fc4-8124-9f2eb9ce7c7b",
   "metadata": {},
   "source": [
    "## Part 2"
   ]
  },
  {
   "cell_type": "code",
   "execution_count": 4,
   "id": "ef09053c-9958-47f8-b06e-e5698ed8260c",
   "metadata": {},
   "outputs": [
    {
     "data": {
      "text/plain": [
       "[(-829266, 3303270), (3303272, 4194250)]"
      ]
     },
     "metadata": {},
     "output_type": "display_data"
    },
    {
     "data": {
      "text/plain": [
       "(3303271, 2906101)"
      ]
     },
     "metadata": {},
     "output_type": "display_data"
    },
    {
     "data": {
      "text/plain": [
       "13213086906101"
      ]
     },
     "execution_count": 4,
     "metadata": {},
     "output_type": "execute_result"
    }
   ],
   "source": [
    "min_coord = 0\n",
    "# max_coord = 20\n",
    "max_coord = 4000000\n",
    "coord = None\n",
    "# not in the mood to do an efficient algorithm, will range through all rows\n",
    "for row in range(0, max_coord+1):\n",
    "    row_coverage = list()\n",
    "    for sensor, beacon in sensor_output:\n",
    "        reach = distance(sensor, beacon)\n",
    "        row_distance = distance((sensor[0], row), sensor)\n",
    "        if row_distance <= reach:\n",
    "            row_coverage.append((sensor[0]-(reach-row_distance),sensor[0]+(reach-row_distance)))\n",
    "            \n",
    "    # remove outside the possible x coordinates\n",
    "    row_coverage = [x for x in row_coverage if not (x[1] < min_coord or x[0] > max_coord)]\n",
    "\n",
    "    row_coverage = sorted(row_coverage, key=lambda x: x[0])\n",
    "    final_coverage = [row_coverage[0]]\n",
    "    for coverage in row_coverage:\n",
    "        if final_coverage[-1][1] >= coverage[0]-1:\n",
    "            final_coverage[-1] = (final_coverage[-1][0], max(final_coverage[-1][1], coverage[1]))\n",
    "        else:\n",
    "            final_coverage.append(coverage)\n",
    "    if len(final_coverage) > 1:\n",
    "        display(final_coverage)\n",
    "        coord = (final_coverage[0][1]+1, row)\n",
    "        break\n",
    "    elif final_coverage[0][0] > min_coord:\n",
    "        display(final_coverage)\n",
    "        coord = (min_coord, row)\n",
    "        break\n",
    "    elif final_coverage[0][1] < max_coord:\n",
    "        display(final_coverage)\n",
    "        coord = (max_coord, row)\n",
    "        break\n",
    "    \n",
    "display(coord)\n",
    "coord[0]*4000000+coord[1]"
   ]
  }
 ],
 "metadata": {
  "authors": [
   {
    "name": "Geraldo Massahud"
   }
  ],
  "kernelspec": {
   "display_name": "Python 3 (ipykernel)",
   "language": "python",
   "name": "python3"
  },
  "language_info": {
   "codemirror_mode": {
    "name": "ipython",
    "version": 3
   },
   "file_extension": ".py",
   "mimetype": "text/x-python",
   "name": "python",
   "nbconvert_exporter": "python",
   "pygments_lexer": "ipython3",
   "version": "3.11.0"
  },
  "nodate": true,
  "title": "Advent of Code 2022 - Day 15"
 },
 "nbformat": 4,
 "nbformat_minor": 5
}
