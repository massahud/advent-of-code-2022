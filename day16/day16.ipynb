{
 "cells": [
  {
   "cell_type": "markdown",
   "id": "43955064-055c-472c-bbf6-3c4cd4cb417a",
   "metadata": {
    "tags": []
   },
   "source": [
    "# [Day 16](https://adventofcode.com/2022/day/16)"
   ]
  },
  {
   "cell_type": "markdown",
   "id": "ee9dd8d9-77dc-4bd2-a02d-38a17b36d706",
   "metadata": {},
   "source": [
    "## Read input file"
   ]
  },
  {
   "cell_type": "code",
   "execution_count": 1,
   "id": "90cbeace-31be-41d7-abe1-b4f36a917b12",
   "metadata": {},
   "outputs": [],
   "source": [
    "import re\n",
    "\n",
    "class Valve:\n",
    "    def __init__(self, name, pressure, connections):\n",
    "        self.name = name\n",
    "        self.pressure = pressure\n",
    "        self.connections = connections\n",
    "        self.closed = True\n",
    "\n",
    "valves = dict()\n",
    "values = []\n",
    "with open('input.txt', 'r') as file:\n",
    "    values = [re.findall('Valve ([^ ]+) has flow rate=(\\d+); tunnels? leads? to valves? (.+)', line) for line in file.read().strip().split('\\n')]\n",
    "for v in values:\n",
    "    valves[v[0][0]] = Valve(v[0][0], int(v[0][1]), v[0][2].split(', '))"
   ]
  },
  {
   "cell_type": "markdown",
   "id": "a15f0548-4e3b-43d6-86a4-c5aa8c588acb",
   "metadata": {},
   "source": [
    "## Part 1"
   ]
  },
  {
   "cell_type": "code",
   "execution_count": 2,
   "id": "0b9e69c6-b033-492f-b54b-348a357177c2",
   "metadata": {},
   "outputs": [],
   "source": [
    "distances = dict()\n",
    "\n",
    "def get_min_distance(v1, v2, valves):\n",
    "    if (v1,v2) in distances:\n",
    "        return distances[(v1,v2)]\n",
    "    if (v2,v1) in distances:\n",
    "        return distances[(v2,v1)]\n",
    "\n",
    "    q = [(v1, 0)]\n",
    "    while len(q) > 0:\n",
    "        v, d = q.pop(0)\n",
    "        if v == v2:\n",
    "            distances[(v1,v2)] = d\n",
    "            return d\n",
    "        q.extend([(valves[x], d+1) for x in v.connections if x in valves])\n",
    "\n",
    "# I'm sick today, so full search it is\n",
    "def search(valve, valves, time_left):\n",
    "    return search_internal(valve, valves, time_left, 0)\n",
    "    \n",
    "def search_internal(valve, valves, time_left, pressure):\n",
    "    if time_left <= 0:\n",
    "        return pressure\n",
    "    \n",
    "    closed = [valves[x] for x in valves if valves[x].closed and valves[x].pressure > 0 and time_left - get_min_distance(valve, valves[x], valves) >= 2]\n",
    "    if len(closed) == 0:\n",
    "        return pressure\n",
    "    best = 0\n",
    "    for v in closed:\n",
    "        v.closed = False\n",
    "        t = time_left - get_min_distance(valve, v, valves)\n",
    "        p = pressure + v.pressure*(t-1)\n",
    "        best = max(best, search_internal(v, valves, t-1, p))\n",
    "        v.closed = True\n",
    "    return best\n",
    "    \n",
    "    "
   ]
  },
  {
   "cell_type": "code",
   "execution_count": 3,
   "id": "8a511014-307f-4dd3-b2c0-75d13777e0c8",
   "metadata": {},
   "outputs": [
    {
     "data": {
      "text/plain": [
       "1915"
      ]
     },
     "execution_count": 3,
     "metadata": {},
     "output_type": "execute_result"
    }
   ],
   "source": [
    "for v in valves:\n",
    "    valves[v].closed = True\n",
    "\n",
    "time_left = 30\n",
    "pressure = 0\n",
    "start = valves['AA']\n",
    "search(start, valves, 30)"
   ]
  },
  {
   "cell_type": "markdown",
   "id": "4ab4cf37-8f06-4fc4-8124-9f2eb9ce7c7b",
   "metadata": {},
   "source": [
    "## Part 2"
   ]
  },
  {
   "cell_type": "code",
   "execution_count": 4,
   "id": "ef09053c-9958-47f8-b06e-e5698ed8260c",
   "metadata": {},
   "outputs": [
    {
     "data": {
      "text/plain": [
       "[(3, 8, 'FW'),\n",
       " (4, 10, 'XD'),\n",
       " (6, 12, 'KE'),\n",
       " (7, 20, 'LU'),\n",
       " (9, 17, 'FE'),\n",
       " (10, 25, 'KS'),\n",
       " (12, 19, 'LW'),\n",
       " (13, 22, 'YC'),\n",
       " (15, 24, 'VS'),\n",
       " (19, 16, 'SX'),\n",
       " (21, 15, 'WX'),\n",
       " (22, 14, 'HQ')]"
      ]
     },
     "metadata": {},
     "output_type": "display_data"
    },
    {
     "data": {
      "text/plain": [
       "2772"
      ]
     },
     "metadata": {},
     "output_type": "display_data"
    }
   ],
   "source": [
    "# full search again, with a simple memory to at least return after several minutes\n",
    "def search_with_elephant(valves, start_valve, start_valve_elephant, time_left):\n",
    "    return search_with_elephant_internal(valves, dict(), start_valve, start_valve_elephant, time_left, time_left)\n",
    "\n",
    "def search_with_elephant_internal(valves, memory, valve, valve_elephant, time_left, time_left_elephant):\n",
    "    closed = [valves[x] for x in valves if valves[x].closed and valves[x].pressure > 0 and time_left - get_min_distance(valve, valves[x], valves) >= 2]\n",
    "    closed_elephant = [valves[x] for x in valves if valves[x].closed and valves[x].pressure > 0 and time_left_elephant - get_min_distance(valve_elephant, valves[x], valves) >= 2]\n",
    "\n",
    "    if len(closed) == 0 and len(closed_elephant) == 0:\n",
    "        return []\n",
    "    best_sum = 0\n",
    "    best = []\n",
    "    \n",
    "    \n",
    "    for v in closed:\n",
    "        v.closed = False\n",
    "        t = time_left - get_min_distance(valve, v, valves)\n",
    "        if t > 1:\n",
    "            key = (''.join(sorted([x.name for x in valves.values() if x.closed and x.pressure > 0])), (v.name, valve_elephant.name), (t-1, time_left_elephant))\n",
    "            reverse_key = (key[0], (key[1][1], key[1][0]), key[2][1], key[2][0])\n",
    "            sequence = []\n",
    "            if key in memory:\n",
    "                sequence = memory[key].copy()\n",
    "            elif reverse_key in memory:\n",
    "                sequence = memory[reverse_key].copy()\n",
    "            else:\n",
    "                sequence = search_with_elephant_internal(valves, memory, v, valve_elephant, t-1, time_left_elephant)\n",
    "                memory[key] = sequence.copy()\n",
    "            sequence.append((t-1, v.pressure, v.name))\n",
    "            s = sum([x[0]*x[1] for x in sequence])\n",
    "            if s > best_sum:\n",
    "                best_sum = s\n",
    "                best = sequence\n",
    "        v.closed = True\n",
    "\n",
    "    for v in closed_elephant:\n",
    "        v.closed = False\n",
    "        t = time_left_elephant - get_min_distance(valve_elephant, v, valves)\n",
    "        if t > 1:\n",
    "            key = (''.join(sorted([x.name for x in valves.values() if x.closed and x.pressure > 0])), (valve.name, v.name), (time_left, t-1))\n",
    "            reverse_key = (key[0], (key[1][1], key[1][0]), key[2][1], key[2][0])\n",
    "            sequence = []\n",
    "            if key in memory:\n",
    "                sequence = memory[key].copy()\n",
    "            elif reverse_key in memory:\n",
    "                sequence = memory[reverse_key].copy()\n",
    "            if key in memory:\n",
    "                sequence = memory[key].copy()\n",
    "            else:\n",
    "                sequence = search_with_elephant_internal(valves, memory, valve, v, time_left, t-1)\n",
    "                memory[key] = sequence.copy()\n",
    "            sequence.append((t-1, v.pressure, v.name))\n",
    "            s = sum([x[0]*x[1] for x in sequence])\n",
    "            if s > best_sum:\n",
    "                best_sum = s\n",
    "                best = sequence\n",
    "        v.closed = True\n",
    "    return best\n",
    "    \n",
    "    \n",
    "for v in valves:\n",
    "    valves[v].closed = True\n",
    "distances = dict()\n",
    "time_left = 26\n",
    "pressure = 0\n",
    "start = valves['AA']\n",
    "sequence = search_with_elephant(valves, start, start, 26)\n",
    "\n",
    "display(sorted([(26-x[0], x[1], x[2]) for x in sequence], key=lambda x: x[0]), sum([x[0]*x[1] for x in sequence]))"
   ]
  }
 ],
 "metadata": {
  "authors": [
   {
    "name": "Geraldo Massahud"
   }
  ],
  "kernelspec": {
   "display_name": "Python 3 (ipykernel)",
   "language": "python",
   "name": "python3"
  },
  "language_info": {
   "codemirror_mode": {
    "name": "ipython",
    "version": 3
   },
   "file_extension": ".py",
   "mimetype": "text/x-python",
   "name": "python",
   "nbconvert_exporter": "python",
   "pygments_lexer": "ipython3",
   "version": "3.11.0"
  },
  "nodate": true,
  "title": "Advent of Code 2022 - Day 16"
 },
 "nbformat": 4,
 "nbformat_minor": 5
}
