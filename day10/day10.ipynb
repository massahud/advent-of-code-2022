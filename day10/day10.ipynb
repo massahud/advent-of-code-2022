{
 "cells": [
  {
   "cell_type": "markdown",
   "id": "43955064-055c-472c-bbf6-3c4cd4cb417a",
   "metadata": {},
   "source": [
    "# [Day 10](https://adventofcode.com/2022/day/10)"
   ]
  },
  {
   "cell_type": "markdown",
   "id": "bd02bcc2-d920-4bba-9464-1267eedce257",
   "metadata": {},
   "source": [
    "## Read input file"
   ]
  },
  {
   "cell_type": "code",
   "execution_count": 1,
   "id": "d01fe2e8-1f62-4bdc-ace5-3ad4739a2d87",
   "metadata": {},
   "outputs": [],
   "source": [
    "with open('input.txt', 'r') as file:\n",
    "    instructions = [line.split() for line in file.read().strip().split('\\n')]\n",
    "for instruction in instructions:\n",
    "    if len(instruction) == 2:\n",
    "        instruction[1] = int(instruction[1])"
   ]
  },
  {
   "cell_type": "markdown",
   "id": "a15f0548-4e3b-43d6-86a4-c5aa8c588acb",
   "metadata": {},
   "source": [
    "## Part 1"
   ]
  },
  {
   "cell_type": "code",
   "execution_count": 2,
   "id": "6549f584-1ae4-497b-a72a-4344c005afd7",
   "metadata": {},
   "outputs": [
    {
     "data": {
      "text/plain": [
       "(20, 21)"
      ]
     },
     "metadata": {},
     "output_type": "display_data"
    },
    {
     "data": {
      "text/plain": [
       "(60, 17)"
      ]
     },
     "metadata": {},
     "output_type": "display_data"
    },
    {
     "data": {
      "text/plain": [
       "(100, 21)"
      ]
     },
     "metadata": {},
     "output_type": "display_data"
    },
    {
     "data": {
      "text/plain": [
       "(140, 17)"
      ]
     },
     "metadata": {},
     "output_type": "display_data"
    },
    {
     "data": {
      "text/plain": [
       "(180, 21)"
      ]
     },
     "metadata": {},
     "output_type": "display_data"
    },
    {
     "data": {
      "text/plain": [
       "(220, 37)"
      ]
     },
     "metadata": {},
     "output_type": "display_data"
    },
    {
     "data": {
      "text/plain": [
       "'Sum: 17840'"
      ]
     },
     "execution_count": 2,
     "metadata": {},
     "output_type": "execute_result"
    }
   ],
   "source": [
    "def execute(clock, register, instruction):\n",
    "    if instruction[0] == 'noop':\n",
    "        clock += 1\n",
    "    elif instruction[0] == 'addx':\n",
    "        register += instruction[1]\n",
    "        clock += 2\n",
    "    return clock, register\n",
    "\n",
    "cycles = (20, 60, 100, 140, 180, 220)\n",
    "\n",
    "clock = 1\n",
    "register = 1\n",
    "total = 0\n",
    "for instruction in instructions:\n",
    "    c, r = execute(clock, register, instruction)\n",
    "    for cycle in cycles:\n",
    "        if clock <= cycle and c > cycle:\n",
    "            display((cycle, register))\n",
    "            total += cycle*register\n",
    "    clock, register = c, r\n",
    "\n",
    "f\"Sum: {total}\""
   ]
  },
  {
   "cell_type": "markdown",
   "id": "4ab4cf37-8f06-4fc4-8124-9f2eb9ce7c7b",
   "metadata": {},
   "source": [
    "## Part 2"
   ]
  },
  {
   "cell_type": "code",
   "execution_count": 3,
   "id": "ef09053c-9958-47f8-b06e-e5698ed8260c",
   "metadata": {},
   "outputs": [
    {
     "data": {
      "text/plain": [
       "['####..##..#.....##..#..#.#....###...##..',\n",
       " '#....#..#.#....#..#.#..#.#....#..#.#..#.',\n",
       " '###..#..#.#....#....#..#.#....#..#.#....',\n",
       " '#....####.#....#.##.#..#.#....###..#.##.',\n",
       " '#....#..#.#....#..#.#..#.#....#....#..#.',\n",
       " '####.#..#.####..###..##..####.#.....###.']"
      ]
     },
     "metadata": {},
     "output_type": "display_data"
    }
   ],
   "source": [
    "clock = 1\n",
    "register = 1\n",
    "crt = [[' ' for _ in range(40)] for _ in range(6)]\n",
    "line = 0\n",
    "pos = 0\n",
    "for instruction in instructions:\n",
    "    c, r = execute(clock, register, instruction)\n",
    "    for i in range(c-clock):\n",
    "        if pos >= register - 1 and pos <= register + 1:\n",
    "            crt[line][pos] = '#'\n",
    "        else:\n",
    "            crt[line][pos] = '.'\n",
    "        pos += 1\n",
    "        if pos % len(crt[line]) == 0:\n",
    "            pos = 0\n",
    "            line = (line + 1)%len(crt)\n",
    "            if line == 0:\n",
    "                display([''.join(l) for l in crt])   \n",
    "    clock, register = c, r"
   ]
  }
 ],
 "metadata": {
  "authors": [
   {
    "name": "Geraldo Massahud"
   }
  ],
  "kernelspec": {
   "display_name": "Python 3 (ipykernel)",
   "language": "python",
   "name": "python3"
  },
  "language_info": {
   "codemirror_mode": {
    "name": "ipython",
    "version": 3
   },
   "file_extension": ".py",
   "mimetype": "text/x-python",
   "name": "python",
   "nbconvert_exporter": "python",
   "pygments_lexer": "ipython3",
   "version": "3.11.0"
  },
  "nodate": true,
  "title": "Advent of Code 2022 - Day 10"
 },
 "nbformat": 4,
 "nbformat_minor": 5
}
