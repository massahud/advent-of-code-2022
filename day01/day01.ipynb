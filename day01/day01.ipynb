{
 "cells": [
  {
   "cell_type": "markdown",
   "id": "c566e2b0-b626-498a-8837-225d363a1d76",
   "metadata": {},
   "source": [
    "# [Day 1](https://adventofcode.com/2022/day/1)"
   ]
  },
  {
   "cell_type": "markdown",
   "id": "ae585af3-3a6f-4cae-8f73-646ebb852c49",
   "metadata": {},
   "source": [
    "## Read problem input"
   ]
  },
  {
   "cell_type": "code",
   "execution_count": 1,
   "id": "c9d0b50e-9cba-4ad4-aebe-daae0d6c63a8",
   "metadata": {},
   "outputs": [
    {
     "data": {
      "text/plain": [
       "'Input lines: 2259'"
      ]
     },
     "execution_count": 1,
     "metadata": {},
     "output_type": "execute_result"
    }
   ],
   "source": [
    "# read input\n",
    "with open('input.txt', 'r') as file:\n",
    "    lines = file.readlines()\n",
    "f\"Input lines: {len(lines)}\""
   ]
  },
  {
   "cell_type": "markdown",
   "id": "065e41dd-b679-4ec7-b0eb-bfc82f326416",
   "metadata": {},
   "source": [
    "## Part 1"
   ]
  },
  {
   "cell_type": "markdown",
   "id": "c722fc28-9e3b-4fb4-a347-7efa7f6f0435",
   "metadata": {},
   "source": [
    "For non empty line, accumulate current calories\n",
    "when there is an empty line, if current > max set new max, then zero calories to the next elf"
   ]
  },
  {
   "cell_type": "code",
   "execution_count": 2,
   "id": "292bcfbe-08d5-45fa-8d48-f3bfe111db7d",
   "metadata": {},
   "outputs": [
    {
     "data": {
      "text/plain": [
       "'Calories: 75501'"
      ]
     },
     "execution_count": 2,
     "metadata": {},
     "output_type": "execute_result"
    }
   ],
   "source": [
    "max = 0\n",
    "calories = 0\n",
    "for line in lines:\n",
    "    if line.strip():\n",
    "        calories += int(line.strip())\n",
    "    else:\n",
    "        if calories > max: \n",
    "            max = calories\n",
    "        calories = 0\n",
    "        \n",
    "# last in the file\n",
    "if calories > max:\n",
    "    max = calories\n",
    "\n",
    "f\"Calories: {max}\""
   ]
  },
  {
   "cell_type": "markdown",
   "id": "9f4236e8-4fb2-4909-93d2-1e40d5c6f882",
   "metadata": {},
   "source": [
    "## Part 2\n",
    "\n",
    "- max is now an array of 3 elements, ordered in decreasing values\n",
    "- for each line \n",
    "  - accumulate current calories\n",
    "  - when there is an empty line, update max array\n",
    "- return the sum of max array"
   ]
  },
  {
   "cell_type": "code",
   "execution_count": 3,
   "id": "1f8cbc84-7c6f-4f4e-acf0-07920636bca1",
   "metadata": {},
   "outputs": [
    {
     "data": {
      "text/plain": [
       "'Sum of most 3: 215594'"
      ]
     },
     "execution_count": 3,
     "metadata": {},
     "output_type": "execute_result"
    }
   ],
   "source": [
    "def updateMax(calories, max):\n",
    "    for i, v in enumerate(max):\n",
    "        if calories > v:\n",
    "            max[i],calories = calories,v\n",
    "\n",
    "max = [0, 0, 0]\n",
    "calories = 0\n",
    "for line in lines:\n",
    "    if line.strip(): #non empty line\n",
    "        calories += int(line)\n",
    "    else: #empty line\n",
    "        updateMax(calories, max)\n",
    "        calories = 0\n",
    "\n",
    "# last in the file\n",
    "updateMax(calories, max)\n",
    "\n",
    "f\"Sum of most 3: {sum(max)}\"\n",
    "\n"
   ]
  }
 ],
 "metadata": {
  "author": "Geraldo Massahud",
  "authors": [
   {
    "name": "Geraldo Massahud"
   }
  ],
  "copyright": 2022,
  "date": "",
  "kernelspec": {
   "display_name": "Python 3 (ipykernel)",
   "language": "python",
   "name": "python3"
  },
  "language_info": {
   "codemirror_mode": {
    "name": "ipython",
    "version": 3
   },
   "file_extension": ".py",
   "mimetype": "text/x-python",
   "name": "python",
   "nbconvert_exporter": "python",
   "pygments_lexer": "ipython3",
   "version": "3.11.0"
  },
  "nodate": true,
  "title": "Advent of Code - Day 1"
 },
 "nbformat": 4,
 "nbformat_minor": 5
}
