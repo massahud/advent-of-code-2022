{
 "cells": [
  {
   "cell_type": "markdown",
   "id": "5506045e-1349-4b39-8049-8797dd52d423",
   "metadata": {},
   "source": [
    "# [Day 2](https://adventofcode.com/2022/day/2)"
   ]
  },
  {
   "cell_type": "code",
   "execution_count": 1,
   "id": "3972f807",
   "metadata": {},
   "outputs": [
    {
     "data": {
      "text/plain": [
       "'Input lines: 2500'"
      ]
     },
     "execution_count": 1,
     "metadata": {},
     "output_type": "execute_result"
    }
   ],
   "source": [
    "with open('input.txt', 'r') as file:\n",
    "    lines = file.readlines()\n",
    "f\"Input lines: {len(lines)}\""
   ]
  },
  {
   "cell_type": "markdown",
   "id": "80e4324a",
   "metadata": {},
   "source": [
    "## Part 1\n",
    "create a score lookup"
   ]
  },
  {
   "cell_type": "code",
   "execution_count": 2,
   "id": "b2d07ef6",
   "metadata": {},
   "outputs": [],
   "source": [
    "handScore = {\"A\": 1, \"B\": 2, \"C\": 3, \"X\": 1, \"Y\": 2, \"Z\": 3}"
   ]
  },
  {
   "cell_type": "markdown",
   "id": "d49abe11-3b8e-4fa1-b2ad-2a0d167cddf6",
   "metadata": {},
   "source": [
    "function to calculate the match score"
   ]
  },
  {
   "cell_type": "code",
   "execution_count": 3,
   "id": "de233b9f",
   "metadata": {},
   "outputs": [],
   "source": [
    "def matchScore(p1, p2):\n",
    "    if handScore[p2]-1 == (handScore[p1])%3:\n",
    "        return 6\n",
    "    if handScore[p1] == handScore[p2]:\n",
    "        return 3\n",
    "    return 0"
   ]
  },
  {
   "cell_type": "markdown",
   "id": "1a4350dc-afd3-4093-a7c1-36710adc89ff",
   "metadata": {},
   "source": [
    "for each line, calculate the match score, handscore and sum "
   ]
  },
  {
   "cell_type": "code",
   "execution_count": 4,
   "id": "74e1aabf",
   "metadata": {},
   "outputs": [
    {
     "data": {
      "text/plain": [
       "'Total score: 10941'"
      ]
     },
     "execution_count": 4,
     "metadata": {},
     "output_type": "execute_result"
    }
   ],
   "source": [
    "score = 0\n",
    "for line in lines:\n",
    "    p1, p2 = line.split()    \n",
    "    score += handScore[p2]\n",
    "    score += matchScore(p1, p2)\n",
    "    \n",
    "f\"Total score: {score}\""
   ]
  },
  {
   "cell_type": "markdown",
   "id": "e4015721-7639-4c29-a98f-f452e001c8c2",
   "metadata": {},
   "source": [
    "\n",
    "## Part 2\n",
    "\n",
    "function to calculate the hand that should be played given the wanted outcome, it uses a simple array lookup"
   ]
  },
  {
   "cell_type": "code",
   "execution_count": 5,
   "id": "7bdf0ebc",
   "metadata": {},
   "outputs": [],
   "source": [
    "def chooseHand(p1, outcome):\n",
    "    choices = ['C', 'A', 'B', 'C', 'A']\n",
    "    if outcome == 'X':\n",
    "        return choices[handScore[p1]-1]\n",
    "    if outcome == 'Y':\n",
    "        return choices[handScore[p1]]\n",
    "    if outcome == 'Z':\n",
    "        return choices[handScore[p1]+1]"
   ]
  },
  {
   "cell_type": "markdown",
   "id": "20c3a154-4aa0-400f-870b-74d2f3619638",
   "metadata": {},
   "source": [
    "for each match, choose the hand and calculate the handScore and matchScore, summing everything"
   ]
  },
  {
   "cell_type": "code",
   "execution_count": 6,
   "id": "4328aed3",
   "metadata": {},
   "outputs": [
    {
     "data": {
      "text/plain": [
       "'Total score: 13071'"
      ]
     },
     "execution_count": 6,
     "metadata": {},
     "output_type": "execute_result"
    }
   ],
   "source": [
    "score = 0\n",
    "for line in lines:\n",
    "    p1, outcome = line.split()\n",
    "    p2 = chooseHand(p1, outcome)\n",
    "    score += handScore[p2]\n",
    "    score += matchScore(p1, p2)\n",
    "    \n",
    "f\"Total score: {score}\""
   ]
  }
 ],
 "metadata": {
  "authors": [
   {
    "name": "Geraldo Massahud"
   }
  ],
  "kernelspec": {
   "display_name": "Python 3 (ipykernel)",
   "language": "python",
   "name": "python3"
  },
  "language_info": {
   "codemirror_mode": {
    "name": "ipython",
    "version": 3
   },
   "file_extension": ".py",
   "mimetype": "text/x-python",
   "name": "python",
   "nbconvert_exporter": "python",
   "pygments_lexer": "ipython3",
   "version": "3.11.0"
  },
  "nodate": true,
  "title": "Advent of Code 2022 - Day 2"
 },
 "nbformat": 4,
 "nbformat_minor": 5
}
