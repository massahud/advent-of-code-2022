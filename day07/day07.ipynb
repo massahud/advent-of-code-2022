{
 "cells": [
  {
   "cell_type": "markdown",
   "id": "43955064-055c-472c-bbf6-3c4cd4cb417a",
   "metadata": {},
   "source": [
    "# [Day 7](https://adventofcode.com/2022/day/7)"
   ]
  },
  {
   "cell_type": "markdown",
   "id": "bd02bcc2-d920-4bba-9464-1267eedce257",
   "metadata": {},
   "source": [
    "## File system classes"
   ]
  },
  {
   "cell_type": "code",
   "execution_count": 1,
   "id": "5ba8fb0e-0ffb-4777-bf4a-ae23165baafb",
   "metadata": {},
   "outputs": [],
   "source": [
    "class File:\n",
    "    def __new__(cls, name, parent = None, size = 0):\n",
    "        file = super(File, cls).__new__(cls)\n",
    "        file.name = name\n",
    "        file.parent = parent\n",
    "        file.size = size\n",
    "        file.children = dict()\n",
    "        return file   \n",
    "    def fullname(self):\n",
    "        fullname = []\n",
    "        if self.children:\n",
    "            fullname.append('')\n",
    "        curr = self\n",
    "        while curr:\n",
    "            fullname.append(curr.name)\n",
    "            curr = curr.parent\n",
    "        return '/'.join(reversed(fullname))\n",
    "        \n",
    "class FileSystem:\n",
    "    def __init__(self):\n",
    "        self.root = File('/')\n",
    "        self.current = self.root\n",
    "    def mkdir(self, name):\n",
    "        if name not in self.current.children:\n",
    "            self.current.children[name] = File(name, self.current)\n",
    "    def create(self, name, size):\n",
    "        if name not in self.current.children:\n",
    "            self.current.children[name] = File(name, self.current)\n",
    "        self.current.children[name].size = size\n",
    "    def cd(self, param):\n",
    "        if param == '/':\n",
    "            self.current = self.root\n",
    "        elif param == '..':\n",
    "            self.current = self.current.parent\n",
    "        elif param in self.current.children:\n",
    "            self.current = self.current.children[param]\n",
    "        else:\n",
    "            raise Exception(\"unknown subdirectory\")\n",
    "        \n",
    "    def postorder(file, fn):\n",
    "        for f in file.children.values():\n",
    "            FileSystem.postorder(f, fn)\n",
    "        fn(file)\n",
    "        \n",
    "    def __du(self, sizes, file):\n",
    "        if file == self.root:\n",
    "            return\n",
    "        if file.children: # dir\n",
    "            sizes[file.parent] = sizes.get(file.parent, 0) + sizes.get(file, 0)\n",
    "        else: # file or empty dir\n",
    "            sizes[file.parent] = sizes.get(file.parent, 0) + file.size\n",
    "            \n",
    "    def du(self):\n",
    "        sizes = dict()\n",
    "        FileSystem.postorder(self.root, lambda f : self.__du(sizes, f))\n",
    "        return sizes"
   ]
  },
  {
   "cell_type": "markdown",
   "id": "c9a30fa3-0a87-4966-81fc-23aac1620485",
   "metadata": {},
   "source": [
    "## Read input into fs"
   ]
  },
  {
   "cell_type": "code",
   "execution_count": 2,
   "id": "af03edff-a72c-438f-a7e3-6db8791368a5",
   "metadata": {},
   "outputs": [],
   "source": [
    "with open('input.txt', 'r') as file:\n",
    "    lines = file.read().strip().split('\\n');\n",
    "\n",
    "fs = FileSystem()\n",
    "curdir = None\n",
    "for line in lines:\n",
    "    line = line.split(' ')\n",
    "    if line[0] == '$':\n",
    "        if line[1] == 'cd':\n",
    "            fs.cd(line[2])\n",
    "    elif line[0] == 'dir':\n",
    "        fs.mkdir(line[1])\n",
    "    else:\n",
    "        fs.create(line[1], int(line[0]))"
   ]
  },
  {
   "cell_type": "markdown",
   "id": "a15f0548-4e3b-43d6-86a4-c5aa8c588acb",
   "metadata": {},
   "source": [
    "## Part 1"
   ]
  },
  {
   "cell_type": "code",
   "execution_count": 3,
   "id": "0905a25a-db36-4ed6-b669-0ee9143045f2",
   "metadata": {},
   "outputs": [
    {
     "data": {
      "text/plain": [
       "1477771"
      ]
     },
     "execution_count": 3,
     "metadata": {},
     "output_type": "execute_result"
    }
   ],
   "source": [
    "du = fs.du()\n",
    "sum([du[x] for x in du.keys() if du[x] <= 100000])"
   ]
  },
  {
   "cell_type": "markdown",
   "id": "4ab4cf37-8f06-4fc4-8124-9f2eb9ce7c7b",
   "metadata": {},
   "source": [
    "## Part 2"
   ]
  },
  {
   "cell_type": "code",
   "execution_count": 4,
   "id": "ef09053c-9958-47f8-b06e-e5698ed8260c",
   "metadata": {},
   "outputs": [
    {
     "data": {
      "text/plain": [
       "3579501"
      ]
     },
     "execution_count": 4,
     "metadata": {},
     "output_type": "execute_result"
    }
   ],
   "source": [
    "\n",
    "totalSpace = 70000000\n",
    "usedSpace = du[fs.root]\n",
    "unusedSpace = totalSpace - usedSpace\n",
    "min([du[x] for x in du.keys() if du[x] >= 30000000 - unusedSpace])"
   ]
  },
  {
   "cell_type": "markdown",
   "id": "be44889f-c19d-47d2-8656-5e6eb82605bf",
   "metadata": {},
   "source": [
    "# No tree solution"
   ]
  },
  {
   "cell_type": "code",
   "execution_count": 5,
   "id": "3027229e-6152-4c0b-b4b4-44b726d86fae",
   "metadata": {},
   "outputs": [
    {
     "data": {
      "text/plain": [
       "'Part 1: 1477771'"
      ]
     },
     "metadata": {},
     "output_type": "display_data"
    },
    {
     "data": {
      "text/plain": [
       "'Part 2: 3579501'"
      ]
     },
     "metadata": {},
     "output_type": "display_data"
    }
   ],
   "source": [
    "with open('input.txt', 'r') as file:\n",
    "    lines = file.read().strip().split('\\n');\n",
    "\n",
    "du = dict()\n",
    "curdir = ['/']\n",
    "for line in lines:\n",
    "    line = line.split(' ')\n",
    "    if line[0] == '$':\n",
    "        if line[1] == 'cd':\n",
    "            if line[2] == '/':\n",
    "\n",
    "                curdir = ['/']\n",
    "            elif line[2] == '..':\n",
    "                curdir = curdir[:-1]\n",
    "            else:\n",
    "                curdir.append(line[2])\n",
    "    elif line[0] != 'dir':\n",
    "        for i in range(len(curdir)+1):\n",
    "            du['/'.join(curdir[:i])] = du.get('/'.join(curdir[:i]), 0) + int(line[0])\n",
    "\n",
    "display(f\"Part 1: {sum([du[x] for x in du.keys() if du[x] <= 100000])}\")\n",
    "        \n",
    "totalSpace = 70000000\n",
    "usedSpace = du['/']\n",
    "unusedSpace = totalSpace - usedSpace\n",
    "\n",
    "display(f\"Part 2: {min([du[x] for x in du.keys() if du[x] >= 30000000 - unusedSpace])}\")"
   ]
  }
 ],
 "metadata": {
  "authors": [
   {
    "name": "Geraldo Massahud"
   }
  ],
  "kernelspec": {
   "display_name": "Python 3 (ipykernel)",
   "language": "python",
   "name": "python3"
  },
  "language_info": {
   "codemirror_mode": {
    "name": "ipython",
    "version": 3
   },
   "file_extension": ".py",
   "mimetype": "text/x-python",
   "name": "python",
   "nbconvert_exporter": "python",
   "pygments_lexer": "ipython3",
   "version": "3.11.0"
  },
  "nodate": true,
  "title": "Advent of Code 2022 - Day 7"
 },
 "nbformat": 4,
 "nbformat_minor": 5
}
